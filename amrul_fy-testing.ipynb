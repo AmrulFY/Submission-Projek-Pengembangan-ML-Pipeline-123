{
  "nbformat": 4,
  "nbformat_minor": 0,
  "metadata": {
    "colab": {
      "provenance": []
    },
    "kernelspec": {
      "name": "python3",
      "display_name": "Python 3"
    },
    "language_info": {
      "name": "python"
    }
  },
  "cells": [
    {
      "cell_type": "code",
      "execution_count": null,
      "metadata": {
        "id": "iK5OEZNEh1s6"
      },
      "outputs": [],
      "source": [
        "import requests\n",
        "import pandas as pd\n",
        "import tensorflow as tf\n",
        "import json\n",
        "import base64"
      ]
    },
    {
      "cell_type": "code",
      "source": [
        "# data = pd.read_csv('Data\\LLM.csv')\n",
        "# data"
      ],
      "metadata": {
        "id": "KmdZ0ofDiAfQ"
      },
      "execution_count": null,
      "outputs": []
    },
    {
      "cell_type": "code",
      "source": [
        "# text_test = data['Text'][1]\n",
        "\n",
        "# text_test"
      ],
      "metadata": {
        "id": "GkaBVk7MiSNo"
      },
      "execution_count": null,
      "outputs": []
    },
    {
      "cell_type": "code",
      "source": [
        "# def prepare_json(text):\n",
        "#     feature_spec = {\n",
        "#         \"text\": tf.train.Feature(bytes_list=tf.train.BytesList(value=[bytes(text, \"utf-8\")])),\n",
        "#     }\n",
        "\n",
        "#     example = tf.train.Example(\n",
        "#         features=tf.train.Features(feature=feature_spec)\n",
        "#     ).SerializeToString()\n",
        "\n",
        "#     result = [\n",
        "#         {\n",
        "#             \"examples\": {\n",
        "#                 \"b64\": base64.b64encode(example).decode()\n",
        "#             }\n",
        "#         }\n",
        "#     ]\n",
        "\n",
        "#     return json.dumps({\n",
        "#         \"signature_name\": \"serving_default\",\n",
        "#         \"instances\": result\n",
        "#     })\n",
        "\n",
        "# json_data = prepare_json(text_test)\n",
        "\n",
        "# endpoint = \"http://localhost:8080/v1/models/stress-prediction-model:predict\"\n",
        "# response = requests.post(endpoint, data=json_data)\n",
        "\n",
        "# prediction = response.json().get(\"predictions\")\n",
        "# if prediction:\n",
        "#     prediction_value = prediction[0][0]\n",
        "#     result = \"Stress\" if prediction_value > 0.6 else \"Tidak Stress\"\n",
        "# else:\n",
        "#     result = \"Error: No predictions found in response.\"\n",
        "\n",
        "# print(result)"
      ],
      "metadata": {
        "id": "fRwvZUlqikg8"
      },
      "execution_count": null,
      "outputs": []
    }
  ]
}